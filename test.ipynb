{
  "cells": [
    {
      "cell_type": "code",
      "execution_count": null,
      "metadata": {},
      "outputs": [],
      "source": "import platform; print(f'Hello from Jupyter on {platform.system()}')"
    },
    {
      "cell_type": "code",
      "metadata": {},
      "source": [
        "import platform; print(f'Hello from Jupyter on {platform.system()}')"
      ],
      "execution_count": null,
      "outputs": []
    }
  ],
  "metadata": {
    "kernelspec": {
      "display_name": "Python 3",
      "language": "python",
      "name": "python3"
    },
    "language_info": {
      "name": "python",
      "version": "3.9.1"
    }
  },
  "nbformat": 4,
  "nbformat_minor": 4
}