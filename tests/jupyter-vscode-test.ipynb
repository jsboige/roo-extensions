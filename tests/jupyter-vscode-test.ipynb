{
  "cells": [
    {
      "cell_type": "markdown",
      "metadata": {},
      "source": [
        "# Test d'intégration du MCP Jupyter avec VSCode\n",
        "\n",
        "Ce notebook est utilisé pour tester l'intégration du MCP Jupyter avec VSCode."
      ]
    },
    {
      "cell_type": "code",
      "execution_count": null,
      "metadata": {},
      "source": [
        "# Test d'exécution de code Python simple\n",
        "print(\"Hello from VSCode kernel!\")"
      ],
      "outputs": []
    },
    {
      "cell_type": "code",
      "execution_count": null,
      "metadata": {},
      "source": [
        "# Test de calcul mathématique\n",
        "import numpy as np\n",
        "\n",
        "# Créer un tableau NumPy\n",
        "arr = np.array([1, 2, 3, 4, 5])\n",
        "print(f\"Tableau: {arr}\")\n",
        "print(f\"Moyenne: {np.mean(arr)}\")\n",
        "print(f\"Somme: {np.sum(arr)}\")"
      ],
      "outputs": []
    },
    {
      "cell_type": "code",
      "execution_count": null,
      "metadata": {},
      "source": [
        "# Test de visualisation\n",
        "import matplotlib.pyplot as plt\n",
        "\n",
        "# Créer des données\n",
        "x = np.linspace(0, 10, 100)\n",
        "y = np.sin(x)\n",
        "\n",
        "# Créer un graphique\n",
        "plt.figure(figsize=(8, 4))\n",
        "plt.plot(x, y, 'b-', label='sin(x)')\n",
        "plt.title('Test de visualisation')\n",
        "plt.xlabel('x')\n",
        "plt.ylabel('sin(x)')\n",
        "plt.grid(True)\n",
        "plt.legend()\n",
        "plt.show()"
      ],
      "outputs": []
    }
  ],
  "metadata": {
    "kernelspec": {
      "display_name": "Python 3",
      "language": "python",
      "name": "python3"
    },
    "language_info": {
      "codemirror_mode": {
        "name": "ipython",
        "version": 3
      },
      "file_extension": ".py",
      "mimetype": "text/x-python",
      "name": "python",
      "nbconvert_exporter": "python",
      "pygments_lexer": "ipython3",
      "version": "3.8.10"
    }
  },
  "nbformat": 4,
  "nbformat_minor": 4
}