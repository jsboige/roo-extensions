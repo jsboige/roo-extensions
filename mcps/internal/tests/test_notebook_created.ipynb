{
  "cells": [
    {
      "cell_type": "markdown",
      "metadata": {},
      "source": [
        "# Test de validation du MCP Jupyter\n",
        "\n",
        "Ce notebook a été créé pour tester la validation du MCP Jupyter."
      ]
    },
    {
      "cell_type": "code",
      "execution_count": null,
      "metadata": {},
      "outputs": [],
      "source": [
        "# Test d'exécution de code Python\n",
        "print(\"Hello from Jupyter!\")"
      ]
    },
    {
      "cell_type": "code",
      "execution_count": null,
      "metadata": {},
      "outputs": [],
      "source": [
        "# Affichage de la version de Python\n",
        "import sys\n",
        "print(f\"Python version: {sys.version}\")"
      ]
    },
    {
      "cell_type": "code",
      "execution_count": null,
      "metadata": {},
      "outputs": [],
      "source": [
        "# Test de calcul\n",
        "import numpy as np\n",
        "\n",
        "# Créer un tableau numpy\n",
        "arr = np.array([1, 2, 3, 4, 5])\n",
        "print(f\"Tableau: {arr}\")\n",
        "print(f\"Moyenne: {np.mean(arr)}\")\n",
        "print(f\"Somme: {np.sum(arr)}\")"
      ]
    }
  ],
  "metadata": {
    "kernelspec": {
      "display_name": "Python 3",
      "language": "python",
      "name": "python3"
    },
    "language_info": {
      "codemirror_mode": {
        "name": "ipython",
        "version": 3
      },
      "file_extension": ".py",
      "mimetype": "text/x-python",
      "name": "python",
      "nbconvert_exporter": "python",
      "pygments_lexer": "ipython3",
      "version": "3.8.5"
    }
  },
  "nbformat": 4,
  "nbformat_minor": 5
}